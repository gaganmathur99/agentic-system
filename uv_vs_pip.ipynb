{
 "cells": [
  {
   "cell_type": "markdown",
   "metadata": {},
   "source": [
    "### UV vs PIP: A Comparative Analysis and Usage Guide"
   ]
  },
  {
   "cell_type": "markdown",
   "metadata": {},
   "source": [
    "# Introduction\n",
    "\n",
    "This notebook provides a detailed comparison between `uv` and `pip`, two package managers for Python.\n",
    "It covers installation, usage, and performance differences to help you understand why `uv` might be a \n",
    "better alternative to `pip` for managing Python packages.\n"
   ]
  },
  {
   "cell_type": "markdown",
   "metadata": {},
   "source": [
    "# What is pip?"
   ]
  },
  {
   "cell_type": "markdown",
   "metadata": {},
   "source": [
    "`pip` is Python's default package manager, used to install, update, and remove Python packages.\n",
    "It downloads packages from the Python Package Index (PyPI) and installs them into your environment.\n",
    "\n",
    "### Common pip Commands:\n",
    "```bash\n",
    "pip install package_name\n",
    "pip uninstall package_name\n",
    "pip list\n",
    "pip freeze > requirements.txt\n",
    "pip install -r requirements.txt\n",
    "```"
   ]
  },
  {
   "attachments": {
    "image.png": {
     "image/png": "[encoded data removed]"
    }
   },
   "cell_type": "markdown",
   "metadata": {},
   "source": [
    "# What is uv?\n",
    "\n",
    "`uv` is a new, high-performance Python package manager written in Rust. It aims to be a drop-in replacement \n",
    "for `pip`, offering significant speed improvements and additional features.\n",
    "\n",
    "### Key Features of uv:\n",
    "- **Performance:** UV's parallel downloads and optimized dependency resolver make it 10-100x faster than PIP for large projects.\n",
    "- **Memory usage:** UV uses significantly less memory than PIP during package installation and dependency resolution.\n",
    "- **Built-in virtual environment management**\n",
    "- **Compatible with `pip` and `venv`**\n",
    "\n",
    "![image.png](attachment:image.png)\n",
    "\n",
    "### Installing uv:"
   ]
  },
  {
   "cell_type": "code",
   "execution_count": null,
   "metadata": {},
   "outputs": [],
   "source": [
    "!pip install uv"
   ]
  },
  {
   "cell_type": "markdown",
   "metadata": {},
   "source": [
    "# Key Differences Between pip and uv\n",
    "| Feature         | pip  | uv  |\n",
    "|----------------|------|-----|\n",
    "| Written in     | Python | Rust |\n",
    "| Speed         | Slower | Faster |\n",
    "| Virtual Environment Support | Separate (`venv`) | Built-in (`uv venv`) |\n",
    "| Dependency Resolution | Standard | Optimized |\n",
    "| Compatibility | Universal | Mostly compatible |"
   ]
  },
  {
   "cell_type": "markdown",
   "metadata": {},
   "source": [
    "# Available Commands in uv"
   ]
  },
  {
   "cell_type": "code",
   "execution_count": null,
   "metadata": {},
   "outputs": [],
   "source": [
    "!uv --help"
   ]
  },
  {
   "cell_type": "markdown",
   "metadata": {},
   "source": [
    "# Initializing uv in a Project"
   ]
  },
  {
   "cell_type": "markdown",
   "metadata": {},
   "source": [
    "The `uv init` command initializes a new `uv` project by creating a `pyproject.toml` file."
   ]
  },
  {
   "cell_type": "code",
   "execution_count": null,
   "metadata": {},
   "outputs": [],
   "source": [
    "!uv init"
   ]
  },
  {
   "cell_type": "markdown",
   "metadata": {},
   "source": [
    "# Creating and Managing Virtual Environments"
   ]
  },
  {
   "cell_type": "code",
   "execution_count": null,
   "metadata": {},
   "outputs": [],
   "source": [
    "!uv venv my_project_env"
   ]
  },
  {
   "cell_type": "markdown",
   "metadata": {},
   "source": [
    "# Activating the virtual environment"
   ]
  },
  {
   "cell_type": "code",
   "execution_count": null,
   "metadata": {},
   "outputs": [],
   "source": [
    "!source my_project_env/bin/activate"
   ]
  },
  {
   "cell_type": "markdown",
   "metadata": {},
   "source": [
    "# Installing Packages with uv"
   ]
  },
  {
   "cell_type": "markdown",
   "metadata": {},
   "source": [
    "### `uv pip install`\n",
    "- Installs a package but does not automatically add it to `pyproject.toml`.\n",
    "- Similar to `pip install`, useful for temporary installations."
   ]
  },
  {
   "cell_type": "code",
   "execution_count": null,
   "metadata": {},
   "outputs": [],
   "source": [
    "!/Users/garvitmathur/Documents/repo/uv_vs_pip/my_project_env/bin/python -m pip install ipykernel -U --force-reinstall"
   ]
  },
  {
   "cell_type": "code",
   "execution_count": null,
   "metadata": {},
   "outputs": [],
   "source": [
    "!uv pip install requests"
   ]
  },
  {
   "cell_type": "markdown",
   "metadata": {},
   "source": [
    "### `uv add`\n",
    "- Installs the package **and** adds it to `pyproject.toml`.\n",
    "- Recommended for managing project dependencies properly."
   ]
  },
  {
   "cell_type": "code",
   "execution_count": null,
   "metadata": {},
   "outputs": [],
   "source": [
    "!uv add ipykernel"
   ]
  },
  {
   "cell_type": "markdown",
   "metadata": {},
   "source": [
    "### `uv sync`\n",
    "\n",
    "- sync the packages with the pyproject.toml\n",
    "- try \"streamlit>=1.26.0\""
   ]
  },
  {
   "cell_type": "code",
   "execution_count": null,
   "metadata": {},
   "outputs": [
    {
     "ename": "",
     "evalue": "",
     "output_type": "error",
     "traceback": [
      "\u001b[1;31mRunning cells with 'my_project_env (Python 3.9.6)' requires the ipykernel package.\n",
      "\u001b[1;31mRun the following command to install 'ipykernel' into the Python environment. \n",
      "\u001b[1;31mCommand: '/Users/garvitmathur/Documents/repo/uv_vs_pip/my_project_env/bin/python -m pip install ipykernel -U --force-reinstall'"
     ]
    }
   ],
   "source": [
    "!uv sync"
   ]
  },
  {
   "cell_type": "markdown",
   "metadata": {},
   "source": [
    "# Performance Benchmark"
   ]
  },
  {
   "cell_type": "code",
   "execution_count": null,
   "metadata": {},
   "outputs": [],
   "source": [
    "import time\n",
    "\n",
    "# pip installation time\n",
    "start_pip = time.time()\n",
    "!pip install numpy\n",
    "end_pip = time.time()\n",
    "pip_time = end_pip - start_pip\n",
    "\n",
    "# uv installation time\n",
    "start_uv = time.time()\n",
    "!uv pip install numpy\n",
    "end_uv = time.time()\n",
    "uv_time = end_uv - start_uv\n",
    "\n",
    "print(f\"pip installation time: {pip_time} seconds\")\n",
    "print(f\"uv installation time: {uv_time} seconds\")"
   ]
  }
 ],
 "metadata": {
  "kernelspec": {
   "display_name": "my_project_env",
   "language": "python",
   "name": "python3"
  },
  "language_info": {
   "codemirror_mode": {
    "name": "ipython",
    "version": 3
   },
   "file_extension": ".py",
   "mimetype": "text/x-python",
   "name": "python",
   "nbconvert_exporter": "python",
   "pygments_lexer": "ipython3",
   "version": "3.9.6"
  }
 },
 "nbformat": 4,
 "nbformat_minor": 2
}
